{
 "cells": [
  {
   "cell_type": "markdown",
   "id": "cac68679",
   "metadata": {},
   "source": [
    "# DATA CLEANING"
   ]
  },
  {
   "cell_type": "code",
   "execution_count": 18,
   "id": "04b9912a",
   "metadata": {},
   "outputs": [],
   "source": [
    "#importing python libraries\n",
    "import pandas as pd\n",
    "import numpy as np\n",
    "import matplotlib.pyplot as plt"
   ]
  },
  {
   "cell_type": "code",
   "execution_count": 19,
   "id": "5f914d18",
   "metadata": {},
   "outputs": [],
   "source": [
    "from mpl_toolkits import mplot3d"
   ]
  },
  {
   "cell_type": "code",
   "execution_count": 20,
   "id": "5be93f67",
   "metadata": {},
   "outputs": [],
   "source": [
    "# creating a dataframe to read the raw data file using pandas\n",
    "df= pd.read_csv(\"crop production data.csv\")\n"
   ]
  },
  {
   "cell_type": "code",
   "execution_count": 21,
   "id": "816e91e8",
   "metadata": {},
   "outputs": [
    {
     "data": {
      "text/plain": [
       "Index(['State_Name', 'District_Name', 'Crop_Year', 'Season', 'Crop', 'Area',\n",
       "       'Production'],\n",
       "      dtype='object')"
      ]
     },
     "execution_count": 21,
     "metadata": {},
     "output_type": "execute_result"
    }
   ],
   "source": [
    "#cloumns names in the dataset\n",
    "df.columns"
   ]
  },
  {
   "cell_type": "code",
   "execution_count": 22,
   "id": "d8922cd6",
   "metadata": {},
   "outputs": [
    {
     "data": {
      "text/html": [
       "<div>\n",
       "<style scoped>\n",
       "    .dataframe tbody tr th:only-of-type {\n",
       "        vertical-align: middle;\n",
       "    }\n",
       "\n",
       "    .dataframe tbody tr th {\n",
       "        vertical-align: top;\n",
       "    }\n",
       "\n",
       "    .dataframe thead th {\n",
       "        text-align: right;\n",
       "    }\n",
       "</style>\n",
       "<table border=\"1\" class=\"dataframe\">\n",
       "  <thead>\n",
       "    <tr style=\"text-align: right;\">\n",
       "      <th></th>\n",
       "      <th>State_Name</th>\n",
       "      <th>District_Name</th>\n",
       "      <th>Crop_Year</th>\n",
       "      <th>Season</th>\n",
       "      <th>Crop</th>\n",
       "      <th>Area</th>\n",
       "      <th>Production</th>\n",
       "    </tr>\n",
       "  </thead>\n",
       "  <tbody>\n",
       "    <tr>\n",
       "      <th>0</th>\n",
       "      <td>Andaman and Nicobar Islands</td>\n",
       "      <td>NICOBARS</td>\n",
       "      <td>2000</td>\n",
       "      <td>Kharif</td>\n",
       "      <td>Arecanut</td>\n",
       "      <td>1254.0</td>\n",
       "      <td>2000.0</td>\n",
       "    </tr>\n",
       "    <tr>\n",
       "      <th>1</th>\n",
       "      <td>Andaman and Nicobar Islands</td>\n",
       "      <td>NICOBARS</td>\n",
       "      <td>2000</td>\n",
       "      <td>Kharif</td>\n",
       "      <td>Other Kharif pulses</td>\n",
       "      <td>2.0</td>\n",
       "      <td>1.0</td>\n",
       "    </tr>\n",
       "    <tr>\n",
       "      <th>2</th>\n",
       "      <td>Andaman and Nicobar Islands</td>\n",
       "      <td>NICOBARS</td>\n",
       "      <td>2000</td>\n",
       "      <td>Kharif</td>\n",
       "      <td>Rice</td>\n",
       "      <td>102.0</td>\n",
       "      <td>321.0</td>\n",
       "    </tr>\n",
       "    <tr>\n",
       "      <th>3</th>\n",
       "      <td>Andaman and Nicobar Islands</td>\n",
       "      <td>NICOBARS</td>\n",
       "      <td>2000</td>\n",
       "      <td>Whole Year</td>\n",
       "      <td>Banana</td>\n",
       "      <td>176.0</td>\n",
       "      <td>641.0</td>\n",
       "    </tr>\n",
       "    <tr>\n",
       "      <th>4</th>\n",
       "      <td>Andaman and Nicobar Islands</td>\n",
       "      <td>NICOBARS</td>\n",
       "      <td>2000</td>\n",
       "      <td>Whole Year</td>\n",
       "      <td>Cashewnut</td>\n",
       "      <td>720.0</td>\n",
       "      <td>165.0</td>\n",
       "    </tr>\n",
       "  </tbody>\n",
       "</table>\n",
       "</div>"
      ],
      "text/plain": [
       "                    State_Name District_Name  Crop_Year       Season  \\\n",
       "0  Andaman and Nicobar Islands      NICOBARS       2000  Kharif        \n",
       "1  Andaman and Nicobar Islands      NICOBARS       2000  Kharif        \n",
       "2  Andaman and Nicobar Islands      NICOBARS       2000  Kharif        \n",
       "3  Andaman and Nicobar Islands      NICOBARS       2000  Whole Year    \n",
       "4  Andaman and Nicobar Islands      NICOBARS       2000  Whole Year    \n",
       "\n",
       "                  Crop    Area  Production  \n",
       "0             Arecanut  1254.0      2000.0  \n",
       "1  Other Kharif pulses     2.0         1.0  \n",
       "2                 Rice   102.0       321.0  \n",
       "3               Banana   176.0       641.0  \n",
       "4            Cashewnut   720.0       165.0  "
      ]
     },
     "execution_count": 22,
     "metadata": {},
     "output_type": "execute_result"
    }
   ],
   "source": [
    "df.head()"
   ]
  },
  {
   "cell_type": "code",
   "execution_count": 23,
   "id": "8abf093d",
   "metadata": {},
   "outputs": [
    {
     "name": "stdout",
     "output_type": "stream",
     "text": [
      "<class 'pandas.core.frame.DataFrame'>\n",
      "RangeIndex: 246091 entries, 0 to 246090\n",
      "Data columns (total 7 columns):\n",
      " #   Column         Non-Null Count   Dtype  \n",
      "---  ------         --------------   -----  \n",
      " 0   State_Name     246091 non-null  object \n",
      " 1   District_Name  246091 non-null  object \n",
      " 2   Crop_Year      246091 non-null  int64  \n",
      " 3   Season         246091 non-null  object \n",
      " 4   Crop           246091 non-null  object \n",
      " 5   Area           246091 non-null  float64\n",
      " 6   Production     242361 non-null  float64\n",
      "dtypes: float64(2), int64(1), object(4)\n",
      "memory usage: 13.1+ MB\n"
     ]
    }
   ],
   "source": [
    "# checking datatype of all columns in the dataframe\n",
    "df.info()"
   ]
  },
  {
   "cell_type": "code",
   "execution_count": 24,
   "id": "7cc2946a",
   "metadata": {},
   "outputs": [],
   "source": [
    "#creating a new column named as \"date\"\n",
    "df[\"Date\"] = pd.to_datetime(df[\"Crop_Year\"], format='%Y')"
   ]
  },
  {
   "cell_type": "code",
   "execution_count": 25,
   "id": "6b9a8cf4",
   "metadata": {},
   "outputs": [
    {
     "data": {
      "text/html": [
       "<div>\n",
       "<style scoped>\n",
       "    .dataframe tbody tr th:only-of-type {\n",
       "        vertical-align: middle;\n",
       "    }\n",
       "\n",
       "    .dataframe tbody tr th {\n",
       "        vertical-align: top;\n",
       "    }\n",
       "\n",
       "    .dataframe thead th {\n",
       "        text-align: right;\n",
       "    }\n",
       "</style>\n",
       "<table border=\"1\" class=\"dataframe\">\n",
       "  <thead>\n",
       "    <tr style=\"text-align: right;\">\n",
       "      <th></th>\n",
       "      <th>State_Name</th>\n",
       "      <th>District_Name</th>\n",
       "      <th>Crop_Year</th>\n",
       "      <th>Season</th>\n",
       "      <th>Crop</th>\n",
       "      <th>Area</th>\n",
       "      <th>Production</th>\n",
       "      <th>Date</th>\n",
       "    </tr>\n",
       "  </thead>\n",
       "  <tbody>\n",
       "    <tr>\n",
       "      <th>0</th>\n",
       "      <td>Andaman and Nicobar Islands</td>\n",
       "      <td>NICOBARS</td>\n",
       "      <td>2000</td>\n",
       "      <td>Kharif</td>\n",
       "      <td>Arecanut</td>\n",
       "      <td>1254.0</td>\n",
       "      <td>2000.0</td>\n",
       "      <td>2000-01-01</td>\n",
       "    </tr>\n",
       "    <tr>\n",
       "      <th>1</th>\n",
       "      <td>Andaman and Nicobar Islands</td>\n",
       "      <td>NICOBARS</td>\n",
       "      <td>2000</td>\n",
       "      <td>Kharif</td>\n",
       "      <td>Other Kharif pulses</td>\n",
       "      <td>2.0</td>\n",
       "      <td>1.0</td>\n",
       "      <td>2000-01-01</td>\n",
       "    </tr>\n",
       "    <tr>\n",
       "      <th>2</th>\n",
       "      <td>Andaman and Nicobar Islands</td>\n",
       "      <td>NICOBARS</td>\n",
       "      <td>2000</td>\n",
       "      <td>Kharif</td>\n",
       "      <td>Rice</td>\n",
       "      <td>102.0</td>\n",
       "      <td>321.0</td>\n",
       "      <td>2000-01-01</td>\n",
       "    </tr>\n",
       "    <tr>\n",
       "      <th>3</th>\n",
       "      <td>Andaman and Nicobar Islands</td>\n",
       "      <td>NICOBARS</td>\n",
       "      <td>2000</td>\n",
       "      <td>Whole Year</td>\n",
       "      <td>Banana</td>\n",
       "      <td>176.0</td>\n",
       "      <td>641.0</td>\n",
       "      <td>2000-01-01</td>\n",
       "    </tr>\n",
       "    <tr>\n",
       "      <th>4</th>\n",
       "      <td>Andaman and Nicobar Islands</td>\n",
       "      <td>NICOBARS</td>\n",
       "      <td>2000</td>\n",
       "      <td>Whole Year</td>\n",
       "      <td>Cashewnut</td>\n",
       "      <td>720.0</td>\n",
       "      <td>165.0</td>\n",
       "      <td>2000-01-01</td>\n",
       "    </tr>\n",
       "  </tbody>\n",
       "</table>\n",
       "</div>"
      ],
      "text/plain": [
       "                    State_Name District_Name  Crop_Year       Season  \\\n",
       "0  Andaman and Nicobar Islands      NICOBARS       2000  Kharif        \n",
       "1  Andaman and Nicobar Islands      NICOBARS       2000  Kharif        \n",
       "2  Andaman and Nicobar Islands      NICOBARS       2000  Kharif        \n",
       "3  Andaman and Nicobar Islands      NICOBARS       2000  Whole Year    \n",
       "4  Andaman and Nicobar Islands      NICOBARS       2000  Whole Year    \n",
       "\n",
       "                  Crop    Area  Production       Date  \n",
       "0             Arecanut  1254.0      2000.0 2000-01-01  \n",
       "1  Other Kharif pulses     2.0         1.0 2000-01-01  \n",
       "2                 Rice   102.0       321.0 2000-01-01  \n",
       "3               Banana   176.0       641.0 2000-01-01  \n",
       "4            Cashewnut   720.0       165.0 2000-01-01  "
      ]
     },
     "execution_count": 25,
     "metadata": {},
     "output_type": "execute_result"
    }
   ],
   "source": [
    "df.head()"
   ]
  },
  {
   "cell_type": "code",
   "execution_count": 26,
   "id": "c67feaaf",
   "metadata": {},
   "outputs": [
    {
     "name": "stdout",
     "output_type": "stream",
     "text": [
      "['Andaman and Nicobar Islands' 'Andhra Pradesh' 'Arunachal Pradesh'\n",
      " 'Assam' 'Bihar' 'Chandigarh' 'Chhattisgarh' 'Dadra and Nagar Haveli'\n",
      " 'Goa' 'Gujarat' 'Haryana' 'Himachal Pradesh' 'Jammu and Kashmir '\n",
      " 'Jharkhand' 'Karnataka' 'Kerala' 'Madhya Pradesh' 'Maharashtra' 'Manipur'\n",
      " 'Meghalaya' 'Mizoram' 'Nagaland' 'Odisha' 'Puducherry' 'Punjab'\n",
      " 'Rajasthan' 'Sikkim' 'Tamil Nadu' 'Telangana ' 'Tripura' 'Uttar Pradesh'\n",
      " 'Uttarakhand' 'West Bengal']\n"
     ]
    }
   ],
   "source": [
    "#All unique state names\n",
    "unique_State_Name = df[\"State_Name\"].unique()\n",
    "print(unique_State_Name)"
   ]
  },
  {
   "cell_type": "code",
   "execution_count": 27,
   "id": "51eb2367",
   "metadata": {},
   "outputs": [
    {
     "name": "stdout",
     "output_type": "stream",
     "text": [
      "['2000-01-01T00:00:00.000000000' '2001-01-01T00:00:00.000000000'\n",
      " '2002-01-01T00:00:00.000000000' '2003-01-01T00:00:00.000000000'\n",
      " '2004-01-01T00:00:00.000000000' '2005-01-01T00:00:00.000000000'\n",
      " '2006-01-01T00:00:00.000000000' '2010-01-01T00:00:00.000000000'\n",
      " '1997-01-01T00:00:00.000000000' '1998-01-01T00:00:00.000000000'\n",
      " '1999-01-01T00:00:00.000000000' '2007-01-01T00:00:00.000000000'\n",
      " '2008-01-01T00:00:00.000000000' '2009-01-01T00:00:00.000000000'\n",
      " '2011-01-01T00:00:00.000000000' '2012-01-01T00:00:00.000000000'\n",
      " '2013-01-01T00:00:00.000000000' '2014-01-01T00:00:00.000000000'\n",
      " '2015-01-01T00:00:00.000000000']\n"
     ]
    }
   ],
   "source": [
    "unique_Date = df[\"Date\"].unique()\n",
    "print(unique_Date)"
   ]
  },
  {
   "cell_type": "code",
   "execution_count": 28,
   "id": "04e337b7",
   "metadata": {},
   "outputs": [
    {
     "name": "stdout",
     "output_type": "stream",
     "text": [
      "['Kharif' 'Whole Year' 'Autumn' 'Rabi' 'Summer' 'Winter']\n"
     ]
    }
   ],
   "source": [
    "df[\"Season\"] = df[\"Season\"].str.strip()\n",
    "unique_Season = df[\"Season\"].unique()\n",
    "print(unique_Season)"
   ]
  },
  {
   "cell_type": "code",
   "execution_count": 32,
   "id": "b420b5f1",
   "metadata": {},
   "outputs": [
    {
     "name": "stdout",
     "output_type": "stream",
     "text": [
      "['Kharif' 'Whole Year' 'Rabi' 'Zaid']\n"
     ]
    }
   ],
   "source": [
    "#categorising 6 seasons into 4 major season\n",
    "df[\"Season\"] = df[\"Season\"].apply (lambda x : \"Rabi\" if x == \"winter\" else x )\n",
    "df[\"Season\"] = df[\"Season\"].apply (lambda x : \"Rabi\" if x == \"Autumn\" else x )\n",
    "df[\"Season\"] = df[\"Season\"].apply (lambda x : \"zaid\" if x == \"summer\" else x )\n",
    "print(df[\"Season\"].unique())"
   ]
  },
  {
   "cell_type": "code",
   "execution_count": 33,
   "id": "49dd4673",
   "metadata": {},
   "outputs": [
    {
     "name": "stdout",
     "output_type": "stream",
     "text": [
      "['Arecanut' 'Other Kharif pulses' 'Rice' 'Banana' 'Cashewnut' 'Coconut'\n",
      " 'Dry ginger' 'Sugarcane' 'Sweet potato' 'Tapioca' 'Black pepper'\n",
      " 'Dry chillies' 'other oilseeds' 'Turmeric' 'Maize' 'Moong(Green Gram)'\n",
      " 'Urad' 'Arhar/Tur' 'Groundnut' 'Sunflower' 'Bajra' 'Castor seed'\n",
      " 'Cotton(lint)' 'Horse-gram' 'Jowar' 'Korra' 'Ragi' 'Tobacco' 'Gram'\n",
      " 'Wheat' 'Masoor' 'Sesamum' 'Linseed' 'Safflower' 'Onion'\n",
      " 'other misc. pulses' 'Samai' 'Small millets' 'Coriander' 'Potato'\n",
      " 'Other  Rabi pulses' 'Soyabean' 'Beans & Mutter(Vegetable)' 'Bhindi'\n",
      " 'Brinjal' 'Citrus Fruit' 'Cucumber' 'Grapes' 'Mango' 'Orange'\n",
      " 'other fibres' 'Other Fresh Fruits' 'Other Vegetables' 'Papaya'\n",
      " 'Pome Fruit' 'Tomato' 'Rapeseed &Mustard' 'Mesta' 'Cowpea(Lobia)' 'Lemon'\n",
      " 'Pome Granet' 'Sapota' 'Cabbage' 'Peas  (vegetable)' 'Niger seed'\n",
      " 'Bottle Gourd' 'Sannhamp' 'Varagu' 'Garlic' 'Ginger' 'Oilseeds total'\n",
      " 'Pulses total' 'Jute' 'Peas & beans (Pulses)' 'Blackgram' 'Paddy'\n",
      " 'Pineapple' 'Barley' 'Khesari' 'Guar seed' 'Moth'\n",
      " 'Other Cereals & Millets' 'Cond-spcs other' 'Turnip' 'Carrot' 'Redish'\n",
      " 'Arcanut (Processed)' 'Atcanut (Raw)' 'Cashewnut Processed'\n",
      " 'Cashewnut Raw' 'Cardamom' 'Rubber' 'Bitter Gourd' 'Drum Stick'\n",
      " 'Jack Fruit' 'Snak Guard' 'Pump Kin' 'Tea' 'Coffee' 'Cauliflower'\n",
      " 'Other Citrus Fruit' 'Water Melon' 'Total foodgrain' 'Kapas' 'Colocosia'\n",
      " 'Lentil' 'Bean' 'Jobster' 'Perilla' 'Rajmash Kholar' 'Ricebean (nagadal)'\n",
      " 'Ash Gourd' 'Beet Root' 'Lab-Lab' 'Ribed Guard' 'Yam' 'Apple' 'Peach'\n",
      " 'Pear' 'Plums' 'Litchi' 'Ber' 'Other Dry Fruit' 'Jute & mesta']\n"
     ]
    }
   ],
   "source": [
    "#unique crop names\n",
    "df[\"Crop\"] = df[\"Crop\"].str.strip()\n",
    "Unique_Crop = df[\"Crop\"].unique()\n",
    "print(Unique_Crop)"
   ]
  },
  {
   "cell_type": "code",
   "execution_count": 34,
   "id": "e44c6acf",
   "metadata": {},
   "outputs": [
    {
     "name": "stdout",
     "output_type": "stream",
     "text": [
      "['Arecanut' 'Other Kharif pulses' 'Paddy' 'Banana' 'Cashewnut' 'Coconut'\n",
      " 'Dry ginger' 'Sugarcane' 'Sweet potato' 'Tapioca' 'Black pepper'\n",
      " 'Dry chillies' 'other oilseeds' 'Turmeric' 'Maize' 'Moong(Green Gram)'\n",
      " 'Blackgram' 'Arhar/Tur' 'Groundnut' 'Sunflower' 'Bajra' 'Castor seed'\n",
      " 'Cotton(lint)' 'Horse-gram' 'Jowar' 'Korra' 'Ragi' 'Tobacco' 'Gram'\n",
      " 'Wheat' 'Lentil' 'Seasum' 'Linseed' 'Safflower' 'Onion'\n",
      " 'other misc. pulses' 'Samai' 'Small millets' 'Coriander' 'Potato'\n",
      " 'Other  Rabi pulses' 'Soybean' 'Beans & Mutter(Vegetable)' 'Bhindi'\n",
      " 'Brinjal' 'Citrus Fruit' 'Cucumber' 'Grapes' 'Mango' 'Orange'\n",
      " 'other fibres' 'Other Fresh Fruits' 'Other Vegetables' 'Papaya'\n",
      " 'Pome Fruit' 'Tomato' 'Rapeseed &Mustard' 'Jute & mesta' 'Cowpea(Lobia)'\n",
      " 'Lemon' 'Pomegranate' 'Sapota' 'Cabbage' 'Peas  (vegetable)' 'Niger seed'\n",
      " 'Bottle Gourd' 'Sunhemp' 'Varagu' 'Garlic' 'Ginger' 'Oilseeds total'\n",
      " 'Pulses total' 'Peas & beans (Pulses)' 'Pineapple' 'Barley' 'Khesari'\n",
      " 'Guar seed' 'Moth' 'Other Cereals & Millets' 'Cond-spcs other' 'Turnip'\n",
      " 'Carrot' 'Raddish' 'Arcanut (Processed)' 'Atcanut (Raw)'\n",
      " 'Cashewnut Processed' 'Cashewnut Raw' 'Cardamom' 'Rubber' 'Bitter Gourd'\n",
      " 'Drum Stick' 'Jack Fruit' 'Snake Gourd' 'Pumpkin' 'Tea' 'Coffee'\n",
      " 'Cauliflower' 'Other Citrus Fruit' 'Water Melon' 'Total foodgrain'\n",
      " 'Colocosia' 'Bean' 'Jobster' 'Perilla' 'Rajmash Kholar'\n",
      " 'Ricebean (nagadal)' 'Ash Gourd' 'Beet Root' 'Lab-Lab' 'Ribed Guard'\n",
      " 'Yam' 'Apple' 'Peach' 'Pear' 'Plums' 'Litchi' 'Ber' 'Other Dry Fruit']\n"
     ]
    }
   ],
   "source": [
    "#correcting spelling of crops \n",
    "df[\"Crop\"] = df[\"Crop\"].apply( lambda x : \"Seasum\" if x == \"Sesamum\" else  x )\n",
    "df[\"Crop\"] = df[\"Crop\"].apply( lambda x : \"Pomegranate\" if x == \"Pome Granet\" else  x )\n",
    "df[\"Crop\"] = df[\"Crop\"].apply( lambda x : \"Sunhemp\" if x == \"Sannhamp\" else  x )\n",
    "df[\"Crop\"] = df[\"Crop\"].apply( lambda x : \"Raddish\" if x == \"Redish\" else  x )\n",
    "df[\"Crop\"] = df[\"Crop\"].apply( lambda x : \"Soybean\" if x == \"Soyabean\" else  x )\n",
    "df[\"Crop\"] = df[\"Crop\"].apply( lambda x : \"Snake Gourd\" if x == \"Snak Guard\" else  x )\n",
    "df[\"Crop\"] = df[\"Crop\"].apply( lambda x : \"Pumpkin\" if x == \"Pump Kin\" else  x )\n",
    "df[\"Crop\"] = df[\"Crop\"].apply( lambda x : \"Paddy\" if x == \"Rice\" else  x )\n",
    "df[\"Crop\"] = df[\"Crop\"].apply( lambda x : \"Blackgram\" if x == \"Urad\" else  x )\n",
    "df[\"Crop\"] = df[\"Crop\"].apply( lambda x : \"Lentil\" if x == \"Masoor\" else  x )\n",
    "df[\"Crop\"] = df[\"Crop\"].apply( lambda x : \"Jute & mesta\" if x == \"Jute\" else  x )\n",
    "df[\"Crop\"] = df[\"Crop\"].apply( lambda x : \"Jute & mesta\" if x == \"Mesta\" else  x )\n",
    "df[\"Crop\"] = df[\"Crop\"].apply( lambda x : \"Cotton(lint)\" if x == \"Kapas\" else  x )\n",
    "\n",
    "Unique_Crop = df[\"Crop\"].unique()\n",
    "print(Unique_Crop)"
   ]
  },
  {
   "cell_type": "code",
   "execution_count": 35,
   "id": "d2cc9e9b",
   "metadata": {},
   "outputs": [
    {
     "name": "stdout",
     "output_type": "stream",
     "text": [
      "['Condiment' 'Pulses' 'Cereal' 'Fruit' 'Dryfruit' 'Plantation' 'Vegetable'\n",
      " 'Oilseed']\n"
     ]
    }
   ],
   "source": [
    "#categorising crops into crop categorize\n",
    "def category_name(name):\n",
    "    Cereals = ['Wheat','Maize','Bajra','Paddy', 'Jowar', 'Korra','Ragi','Small millets','Samai', 'Varagu','Barley','Khesari','Other Cereals & Millets','Total foodgrain','Jobster']\n",
    "    Pulses = ['Pulses total','Other  Rabi pulses','Other Kharif pulses','Moong(Green Gram)','Blackgram','Lentil','Arhar/Tur','Horse-gram','Gram','other misc. pulses','Other rabi pulses','Other fibres','Cowpea(Lobia)','Peas & beans (Pulses)','Moth','Bean','Rajmash Kholar','Ricebean (nagadal)']\n",
    "    Vegetables = ['Beans & Mutter(Vegetable)','Lemon','Sweet potato','Tapioca','Onion','Potato','Bhindi','Brinjal','Cucumber','Other Vegetables','Tomato','Cabbage','Peas  (vegetable)','Bottle Gourd','Turnip','Carrot','Raddish','Bitter Gourd','Drum Stick','Jack Fruit','Snake Gourd','Pumpkin','Cauliflower','Colocosia','Ash Gourd','Beet Root','Lab-Lab','Ribed Guard','Yam','Perilla']\n",
    "    Fruits = ['Sapota','Banana','Citrus Fruit','Grapes','Mango','Orange','Other Fresh Fruits','Papaya','Pome Fruit','Pomegranate','Pineapple','Other Citrus Fruit','Water Melon','Apple','Peach','Pear','Plums','Litchi','Ber']\n",
    "    Oilseeds = ['other oilseeds','Groundnut','Sunflower','Castor seed','Safflower','Linseed','Seasum','Rapeseed &Mustard','Niger seed','Oilseeds total','Sunhemp','Soybean']\n",
    "    Condiments = ['Dry ginger','Black pepper','Dry chillies','Turmeric','Coriander','Garlic','Ginger','Cond-spcs other','Cardamom','Arcanut (Processed)','Atcanut (Raw)','Arecanut']\n",
    "    Dryfruits = ['Cashewnut','Cashewnut Processed','Cashewnut Raw','Other Dry Fruit']\n",
    "    Plantation = ['Coconut','Sugarcane','Cotton(lint)','Tobacco','Jute & mesta','Guar seed','Rubber','Tea','Coffee','other fibres']\n",
    "    if name in Cereals:\n",
    "        return 'Cereal'\n",
    "    elif name in Pulses:\n",
    "        return 'Pulses'\n",
    "    elif name in Vegetables:\n",
    "        return 'Vegetable'\n",
    "    elif name in Fruits:\n",
    "        return 'Fruit'\n",
    "    elif name in Oilseeds:\n",
    "        return 'Oilseed'\n",
    "    elif name in Condiments:\n",
    "        return 'Condiment'\n",
    "    elif name in Dryfruits:\n",
    "        return 'Dryfruit'\n",
    "    elif name in Plantation:\n",
    "        return 'Plantation'\n",
    "    else:\n",
    "        return 'None'\n",
    "    \n",
    "df[\"Category\"] = df[\"Crop\"].apply(category_name)\n",
    "print(df[\"Category\"].unique())"
   ]
  },
  {
   "cell_type": "code",
   "execution_count": 36,
   "id": "c9bfa265",
   "metadata": {},
   "outputs": [
    {
     "name": "stdout",
     "output_type": "stream",
     "text": [
      "['South India' 'East India' 'North India' 'West India']\n"
     ]
    }
   ],
   "source": [
    "#categorizing indian states into regions\n",
    "def category(name):\n",
    "    east_india = ['West Bengal', 'Tripura', 'Arunachal Pradesh', 'Assam', 'Manipur', 'Meghalaya', 'Mizoram', 'Nagaland', 'Sikkim','Odisha']\n",
    "    west_india = ['Maharashtra', 'Gujarat', 'Dadra and Nagar Haveli', 'Goa', 'Rajasthan']\n",
    "    north_india = ['Bihar', 'Chandigarh', 'Chhattisgarh', 'Haryana', 'Himachal Pradesh', 'Jammu and Kashmir ', 'Jharkhand', 'Madhya Pradesh', 'Punjab', 'Uttar Pradesh', 'Uttarakhand']\n",
    "    south_india = ['Tamil Nadu', 'Telangana ', 'Andaman and Nicobar Islands', 'Andhra Pradesh', 'Karnataka', 'Kerala', 'Puducherry']\n",
    "    \n",
    "    if name in east_india:\n",
    "        return 'East India'\n",
    "    elif name in west_india:\n",
    "        return 'West India'\n",
    "    elif name in north_india:\n",
    "        return 'North India'\n",
    "    elif name in south_india:\n",
    "        return 'South India'\n",
    "    else:\n",
    "        return 'None'\n",
    "    \n",
    "df[\"Region\"] = df[\"State_Name\"].apply(category)\n",
    "print(df[\"Region\"].unique())"
   ]
  },
  {
   "cell_type": "code",
   "execution_count": 41,
   "id": "bb141888",
   "metadata": {},
   "outputs": [
    {
     "data": {
      "text/plain": [
       "array([], dtype=object)"
      ]
     },
     "execution_count": 41,
     "metadata": {},
     "output_type": "execute_result"
    }
   ],
   "source": [
    "ny_df = df.loc[df['Region'] == 'None']\n",
    "ny_df[\"State_Name\"].unique()"
   ]
  },
  {
   "cell_type": "code",
   "execution_count": 38,
   "id": "776b5665",
   "metadata": {},
   "outputs": [],
   "source": [
    "df.columns = ['State_Name', 'District_Name', 'Crop_Year', 'Season', 'Crop', 'Area(hectare)',\n",
    "       'Production(tonnes)', 'Date', 'Category', 'Region']"
   ]
  },
  {
   "cell_type": "code",
   "execution_count": 39,
   "id": "4f875d08",
   "metadata": {},
   "outputs": [
    {
     "data": {
      "text/plain": [
       "Index(['State_Name', 'District_Name', 'Crop_Year', 'Season', 'Crop',\n",
       "       'Area(hectare)', 'Production(tonnes)', 'Date', 'Category', 'Region'],\n",
       "      dtype='object')"
      ]
     },
     "execution_count": 39,
     "metadata": {},
     "output_type": "execute_result"
    }
   ],
   "source": [
    "df.columns"
   ]
  },
  {
   "cell_type": "code",
   "execution_count": 40,
   "id": "fcd60dfc",
   "metadata": {},
   "outputs": [],
   "source": [
    "#creating new column named \"productivity\" & \"total production\"\n",
    "df[\"Productivity\"] = df[\"Production(tonnes)\"] / df[\"Area(hectare)\"]\n",
    "df[\"Total Production\"] = df[\"Production(tonnes)\"] * df[\"Area(hectare)\"]"
   ]
  },
  {
   "cell_type": "code",
   "execution_count": 42,
   "id": "a9762f47",
   "metadata": {},
   "outputs": [
    {
     "data": {
      "text/plain": [
       "Index(['State_Name', 'District_Name', 'Crop_Year', 'Season', 'Crop',\n",
       "       'Area(hectare)', 'Production(tonnes)', 'Date', 'Category', 'Region',\n",
       "       'Productivity', 'Total Production'],\n",
       "      dtype='object')"
      ]
     },
     "execution_count": 42,
     "metadata": {},
     "output_type": "execute_result"
    }
   ],
   "source": [
    "df.columns\n",
    "\n"
   ]
  },
  {
   "cell_type": "code",
   "execution_count": 43,
   "id": "33c47372",
   "metadata": {},
   "outputs": [
    {
     "data": {
      "text/html": [
       "<div>\n",
       "<style scoped>\n",
       "    .dataframe tbody tr th:only-of-type {\n",
       "        vertical-align: middle;\n",
       "    }\n",
       "\n",
       "    .dataframe tbody tr th {\n",
       "        vertical-align: top;\n",
       "    }\n",
       "\n",
       "    .dataframe thead th {\n",
       "        text-align: right;\n",
       "    }\n",
       "</style>\n",
       "<table border=\"1\" class=\"dataframe\">\n",
       "  <thead>\n",
       "    <tr style=\"text-align: right;\">\n",
       "      <th></th>\n",
       "      <th>State_Name</th>\n",
       "      <th>District_Name</th>\n",
       "      <th>Crop_Year</th>\n",
       "      <th>Season</th>\n",
       "      <th>Crop</th>\n",
       "      <th>Area(hectare)</th>\n",
       "      <th>Production(tonnes)</th>\n",
       "      <th>Date</th>\n",
       "      <th>Category</th>\n",
       "      <th>Region</th>\n",
       "      <th>Productivity</th>\n",
       "      <th>Total Production</th>\n",
       "    </tr>\n",
       "  </thead>\n",
       "  <tbody>\n",
       "    <tr>\n",
       "      <th>0</th>\n",
       "      <td>Andaman and Nicobar Islands</td>\n",
       "      <td>NICOBARS</td>\n",
       "      <td>2000</td>\n",
       "      <td>Kharif</td>\n",
       "      <td>Arecanut</td>\n",
       "      <td>1254.0</td>\n",
       "      <td>2000.0</td>\n",
       "      <td>2000-01-01</td>\n",
       "      <td>Condiment</td>\n",
       "      <td>South India</td>\n",
       "      <td>1.594896</td>\n",
       "      <td>2508000.0</td>\n",
       "    </tr>\n",
       "    <tr>\n",
       "      <th>1</th>\n",
       "      <td>Andaman and Nicobar Islands</td>\n",
       "      <td>NICOBARS</td>\n",
       "      <td>2000</td>\n",
       "      <td>Kharif</td>\n",
       "      <td>Other Kharif pulses</td>\n",
       "      <td>2.0</td>\n",
       "      <td>1.0</td>\n",
       "      <td>2000-01-01</td>\n",
       "      <td>Pulses</td>\n",
       "      <td>South India</td>\n",
       "      <td>0.500000</td>\n",
       "      <td>2.0</td>\n",
       "    </tr>\n",
       "    <tr>\n",
       "      <th>2</th>\n",
       "      <td>Andaman and Nicobar Islands</td>\n",
       "      <td>NICOBARS</td>\n",
       "      <td>2000</td>\n",
       "      <td>Kharif</td>\n",
       "      <td>Paddy</td>\n",
       "      <td>102.0</td>\n",
       "      <td>321.0</td>\n",
       "      <td>2000-01-01</td>\n",
       "      <td>Cereal</td>\n",
       "      <td>South India</td>\n",
       "      <td>3.147059</td>\n",
       "      <td>32742.0</td>\n",
       "    </tr>\n",
       "    <tr>\n",
       "      <th>3</th>\n",
       "      <td>Andaman and Nicobar Islands</td>\n",
       "      <td>NICOBARS</td>\n",
       "      <td>2000</td>\n",
       "      <td>Whole Year</td>\n",
       "      <td>Banana</td>\n",
       "      <td>176.0</td>\n",
       "      <td>641.0</td>\n",
       "      <td>2000-01-01</td>\n",
       "      <td>Fruit</td>\n",
       "      <td>South India</td>\n",
       "      <td>3.642045</td>\n",
       "      <td>112816.0</td>\n",
       "    </tr>\n",
       "    <tr>\n",
       "      <th>4</th>\n",
       "      <td>Andaman and Nicobar Islands</td>\n",
       "      <td>NICOBARS</td>\n",
       "      <td>2000</td>\n",
       "      <td>Whole Year</td>\n",
       "      <td>Cashewnut</td>\n",
       "      <td>720.0</td>\n",
       "      <td>165.0</td>\n",
       "      <td>2000-01-01</td>\n",
       "      <td>Dryfruit</td>\n",
       "      <td>South India</td>\n",
       "      <td>0.229167</td>\n",
       "      <td>118800.0</td>\n",
       "    </tr>\n",
       "  </tbody>\n",
       "</table>\n",
       "</div>"
      ],
      "text/plain": [
       "                    State_Name District_Name  Crop_Year      Season  \\\n",
       "0  Andaman and Nicobar Islands      NICOBARS       2000      Kharif   \n",
       "1  Andaman and Nicobar Islands      NICOBARS       2000      Kharif   \n",
       "2  Andaman and Nicobar Islands      NICOBARS       2000      Kharif   \n",
       "3  Andaman and Nicobar Islands      NICOBARS       2000  Whole Year   \n",
       "4  Andaman and Nicobar Islands      NICOBARS       2000  Whole Year   \n",
       "\n",
       "                  Crop  Area(hectare)  Production(tonnes)       Date  \\\n",
       "0             Arecanut         1254.0              2000.0 2000-01-01   \n",
       "1  Other Kharif pulses            2.0                 1.0 2000-01-01   \n",
       "2                Paddy          102.0               321.0 2000-01-01   \n",
       "3               Banana          176.0               641.0 2000-01-01   \n",
       "4            Cashewnut          720.0               165.0 2000-01-01   \n",
       "\n",
       "    Category       Region  Productivity  Total Production  \n",
       "0  Condiment  South India      1.594896         2508000.0  \n",
       "1     Pulses  South India      0.500000               2.0  \n",
       "2     Cereal  South India      3.147059           32742.0  \n",
       "3      Fruit  South India      3.642045          112816.0  \n",
       "4   Dryfruit  South India      0.229167          118800.0  "
      ]
     },
     "execution_count": 43,
     "metadata": {},
     "output_type": "execute_result"
    }
   ],
   "source": [
    "df.head()"
   ]
  },
  {
   "cell_type": "code",
   "execution_count": 44,
   "id": "1e6b0cad",
   "metadata": {},
   "outputs": [],
   "source": [
    "#dropping null values\n",
    "df = df.dropna(axis=0)"
   ]
  },
  {
   "cell_type": "code",
   "execution_count": 45,
   "id": "62db3398",
   "metadata": {},
   "outputs": [],
   "source": [
    "#dropping all the rows of less area\n",
    "df = df.drop(df[df['Area(hectare)'] == 1].index)\n",
    "df = df.drop(df[df['Area(hectare)'] == 2].index)\n",
    "df = df.drop(df[df['Area(hectare)'] == 3].index)\n",
    "df = df.drop(df[df['Area(hectare)'] == 4].index)\n",
    "df = df.drop(df[df['Area(hectare)'] == 5].index)\n",
    "df = df.drop(df[df['Area(hectare)'] == 6].index)\n",
    "df = df.drop(df[df['Area(hectare)'] == 7].index)\n",
    "df = df.drop(df[df['Area(hectare)'] == 10].index)"
   ]
  },
  {
   "cell_type": "code",
   "execution_count": 46,
   "id": "2517584b",
   "metadata": {},
   "outputs": [],
   "source": [
    "#dropping all the rows which have less production\n",
    "df = df.drop(df[df['Production(tonnes)'] == 1].index)\n",
    "df = df.drop(df[df['Production(tonnes)'] == 0].index)\n",
    "df = df.drop(df[df['Production(tonnes)'] == 2].index)\n",
    "df = df.drop(df[df['Production(tonnes)'] == 3].index)\n",
    "df = df.drop(df[df['Production(tonnes)'] == 4].index)\n",
    "df = df.drop(df[df['Production(tonnes)'] == 5].index)\n",
    "df = df.drop(df[df['Production(tonnes)'] == 6].index)\n",
    "df = df.drop(df[df['Production(tonnes)'] == 10].index)"
   ]
  },
  {
   "cell_type": "code",
   "execution_count": 47,
   "id": "a51c460d",
   "metadata": {},
   "outputs": [],
   "source": [
    "df.to_csv(\"Cleaned.csv\", index = False)"
   ]
  },
  {
   "cell_type": "code",
   "execution_count": 48,
   "id": "f7160e1e",
   "metadata": {},
   "outputs": [
    {
     "data": {
      "text/plain": [
       "Index(['State_Name', 'District_Name', 'Crop_Year', 'Season', 'Crop',\n",
       "       'Area(hectare)', 'Production(tonnes)', 'Date', 'Category', 'Region',\n",
       "       'Productivity', 'Total Production'],\n",
       "      dtype='object')"
      ]
     },
     "execution_count": 48,
     "metadata": {},
     "output_type": "execute_result"
    }
   ],
   "source": [
    "df.columns"
   ]
  },
  {
   "cell_type": "code",
   "execution_count": 49,
   "id": "57452b21",
   "metadata": {},
   "outputs": [],
   "source": [
    "#removing outliers\n",
    "Q1 = df[\"Total Production\"].quantile(0.40)\n",
    "Q3 = df[\"Total Production\"].quantile(0.60)\n",
    "IQR = Q3 - Q1\n",
    "\n",
    "df = df[(df[\"Total Production\"] >= Q1 - 1.5*IQR) & (df[\"Total Production\"] <= Q3 + 1.5*IQR)]"
   ]
  },
  {
   "cell_type": "code",
   "execution_count": 50,
   "id": "5b24b071",
   "metadata": {},
   "outputs": [],
   "source": [
    "Q1 = df[\"Productivity\"].quantile(0.40)\n",
    "Q3 = df[\"Productivity\"].quantile(0.60)\n",
    "IQR = Q3 - Q1\n",
    "\n",
    "df = df[(df[\"Productivity\"] >= Q1 - 1.5*IQR) & (df[\"Productivity\"] <= Q3 + 1.5*IQR)]"
   ]
  },
  {
   "cell_type": "code",
   "execution_count": 51,
   "id": "613c4051",
   "metadata": {},
   "outputs": [
    {
     "data": {
      "text/plain": [
       "(array([76741.,  7248.,  3958.,  2710.,  2058.,  1754.,  1335.,  1186.,\n",
       "         1125.,   919.]),\n",
       " array([8.00000000e-03, 1.00686001e+06, 2.01372001e+06, 3.02058001e+06,\n",
       "        4.02744000e+06, 5.03430000e+06, 6.04116000e+06, 7.04802000e+06,\n",
       "        8.05488000e+06, 9.06174000e+06, 1.00686000e+07]),\n",
       " <BarContainer object of 10 artists>)"
      ]
     },
     "execution_count": 51,
     "metadata": {},
     "output_type": "execute_result"
    },
    {
     "data": {
      "image/png": "[encoded data removed]",
      "text/plain": [
       "<Figure size 432x288 with 1 Axes>"
      ]
     },
     "metadata": {
      "needs_background": "light"
     },
     "output_type": "display_data"
    }
   ],
   "source": [
    "plt.hist(df[\"Total Production\"])\n",
    "\n"
   ]
  },
  {
   "cell_type": "code",
   "execution_count": 52,
   "id": "b6a4f648",
   "metadata": {},
   "outputs": [
    {
     "data": {
      "text/plain": [
       "(array([11984., 15434., 16307., 13256., 12632., 11263.,  6145.,  4620.,\n",
       "         4457.,  2936.]),\n",
       " array([0.13772455, 0.29021349, 0.44270244, 0.59519138, 0.74768032,\n",
       "        0.90016927, 1.05265821, 1.20514715, 1.3576361 , 1.51012504,\n",
       "        1.66261398]),\n",
       " <BarContainer object of 10 artists>)"
      ]
     },
     "execution_count": 52,
     "metadata": {},
     "output_type": "execute_result"
    },
    {
     "data": {
      "image/png": "[encoded data removed]",
      "text/plain": [
       "<Figure size 432x288 with 1 Axes>"
      ]
     },
     "metadata": {
      "needs_background": "light"
     },
     "output_type": "display_data"
    }
   ],
   "source": [
    "plt.hist(df[\"Productivity\"])"
   ]
  },
  {
   "cell_type": "code",
   "execution_count": 53,
   "id": "ac8236bb",
   "metadata": {},
   "outputs": [],
   "source": [
    "df.to_csv(\"CleanedIQR.csv\", index = False)"
   ]
  },
  {
   "cell_type": "code",
   "execution_count": 54,
   "id": "a3045e9b",
   "metadata": {},
   "outputs": [],
   "source": [
    "Q1 = df[\"Area(hectare)\"].quantile(0.40)\n",
    "Q3 = df[\"Area(hectare)\"].quantile(0.60)\n",
    "IQR = Q3 - Q1\n",
    "\n",
    "df = df[(df[\"Area(hectare)\"] >= Q1 - 1.5*IQR) & (df[\"Area(hectare)\"] <= Q3 + 1.5*IQR)]"
   ]
  },
  {
   "cell_type": "code",
   "execution_count": 55,
   "id": "21453ef8",
   "metadata": {},
   "outputs": [
    {
     "data": {
      "text/plain": [
       "(array([27911., 12570.,  8176.,  5733.,  4528.,  3889.,  3174.,  3209.,\n",
       "         2795.,  2301.]),\n",
       " array([1.00000e-01, 1.12790e+02, 2.25480e+02, 3.38170e+02, 4.50860e+02,\n",
       "        5.63550e+02, 6.76240e+02, 7.88930e+02, 9.01620e+02, 1.01431e+03,\n",
       "        1.12700e+03]),\n",
       " <BarContainer object of 10 artists>)"
      ]
     },
     "execution_count": 55,
     "metadata": {},
     "output_type": "execute_result"
    },
    {
     "data": {
      "image/png": "[encoded data removed]",
      "text/plain": [
       "<Figure size 432x288 with 1 Axes>"
      ]
     },
     "metadata": {
      "needs_background": "light"
     },
     "output_type": "display_data"
    }
   ],
   "source": [
    "plt.hist(df[\"Area(hectare)\"])\n",
    "\n"
   ]
  },
  {
   "cell_type": "code",
   "execution_count": 56,
   "id": "ca4503bc",
   "metadata": {},
   "outputs": [],
   "source": [
    "df.to_csv(\"CleanedIQR.csv\", index = False)"
   ]
  },
  {
   "cell_type": "code",
   "execution_count": null,
   "id": "691c064e",
   "metadata": {},
   "outputs": [],
   "source": []
  }
 ],
 "metadata": {
  "kernelspec": {
   "display_name": "Python 3 (ipykernel)",
   "language": "python",
   "name": "python3"
  },
  "language_info": {
   "codemirror_mode": {
    "name": "ipython",
    "version": 3
   },
   "file_extension": ".py",
   "mimetype": "text/x-python",
   "name": "python",
   "nbconvert_exporter": "python",
   "pygments_lexer": "ipython3",
   "version": "3.9.12"
  }
 },
 "nbformat": 4,
 "nbformat_minor": 5
}
